{
 "cells": [
  {
   "cell_type": "code",
   "execution_count": 1,
   "metadata": {},
   "outputs": [],
   "source": [
    "from model.model import EVSpaceModel\n",
    "import matplotlib.pyplot as plt\n",
    "from matplotlib import ticker, cm\n",
    "import seaborn as sns\n",
    "import numpy as np\n"
   ]
  },
  {
   "cell_type": "code",
   "execution_count": 2,
   "metadata": {},
   "outputs": [
    {
     "name": "stdout",
     "output_type": "stream",
     "text": [
      "49.06938547292577\n"
     ]
    }
   ],
   "source": [
    "speed = 0.3\n",
    "cfg = 'configs/Mississauga_cfg.yml' # 'configs/Point_Edward_cfg.yml' #\n",
    "model = EVSpaceModel(cfg=cfg)  \n",
    "model.run_model(10) #24*365   \n",
    "print(model.av_charge)\n",
    "model.save()"
   ]
  },
  {
   "cell_type": "markdown",
   "metadata": {},
   "source": []
  },
  {
   "cell_type": "code",
   "execution_count": null,
   "metadata": {},
   "outputs": [],
   "source": [
    "GP = model.datacollector_gridpoints.get_agent_vars_dataframe()\n",
    "# XY = pd.DataFrame(GP['pos'].tolist()).rename({0:'X',1:'Y'},axis=1)\n",
    "\n",
    "grid_spacing = model.cfg['agent_params']['Grid_Points']['grid_spacing']\n",
    "\n",
    "GP_tot = GP.reset_index().groupby('AgentID').agg({'cars_passing':sum,'X':'first','Y':'first'})\n",
    "# fig, ax = plt.subplots()\n",
    "# sns.scatterplot(data=GP_tot, x='X',y='Y',c=GP_tot['cars_passing'])\n",
    "\n",
    "X = GP_tot['X'].values.reshape((-1,grid_spacing))\n",
    "Y = GP_tot['Y'].values.reshape((-1,grid_spacing))\n",
    "Z = GP_tot['cars_passing'].values.reshape((-1,grid_spacing))\n",
    "\n",
    "fig, ax = plt.subplots()\n",
    "# cs = ax.contourf(X, Y, Z, locator=ticker.LogLocator(2))\n",
    "cs = ax.contourf(X, Y, Z, 100)\n",
    "# cs = ax.contourf(X, Y, Z, locator=ticker.LogLocator(2))\n",
    "cbar = plt.colorbar(cs)\n"
   ]
  },
  {
   "cell_type": "code",
   "execution_count": null,
   "metadata": {},
   "outputs": [],
   "source": [
    "mdf"
   ]
  },
  {
   "cell_type": "code",
   "execution_count": null,
   "metadata": {},
   "outputs": [],
   "source": [
    "import pandas as pd\n",
    "def is_business_day(date):\n",
    "        return bool(len(pd.bdate_range(date,date)))\n",
    "mdf['isbusinessday'] = [is_business_day(date) for date in mdf.date_time]\n",
    "mdf['hour'] = pd.to_datetime(mdf.date_time).dt.hour\n",
    "mdf=mdf[mdf['date_time']>pd.to_datetime('2022-01-03')]\n",
    "hourly = mdf.groupby(['isbusinessday','hour']).mean()\n",
    "mdfweekday = mdf[mdf['isbusinessday'] == True]\n",
    "hourlyweekday = mdfweekday.groupby(['hour']).mean()\n",
    "mdfweekend = mdf[mdf['isbusinessday'] == False]\n",
    "hourlyweekend = mdfweekend.groupby(['hour']).mean()\n",
    "\n",
    "fig, ax = plt.subplots(3,figsize=(10,10))\n",
    "\n",
    "hourlyweekday[['av_moving','av_home','av_work','av_random']].plot(ax=ax[0],title='Weekday')\n",
    "hourlyweekend[['av_moving','av_home','av_work','av_random']].plot(ax=ax[1],title='Weekend')\n",
    "hourlyweekday['charge_load'].plot(ax=ax[2])\n",
    "hourlyweekend['charge_load'].plot(ax=ax[2])"
   ]
  }
 ],
 "metadata": {
  "kernelspec": {
   "display_name": "Python 3.10.4 64-bit",
   "language": "python",
   "name": "python3"
  },
  "language_info": {
   "codemirror_mode": {
    "name": "ipython",
    "version": 3
   },
   "file_extension": ".py",
   "mimetype": "text/x-python",
   "name": "python",
   "nbconvert_exporter": "python",
   "pygments_lexer": "ipython3",
   "version": "3.10.4"
  },
  "orig_nbformat": 4,
  "vscode": {
   "interpreter": {
    "hash": "ee9e6933ea4ec630184a8c87a27d1e6784d86fb6cb93da4e10a0fb72fa368fde"
   }
  }
 },
 "nbformat": 4,
 "nbformat_minor": 2
}
